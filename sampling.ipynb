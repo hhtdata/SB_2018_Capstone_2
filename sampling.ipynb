{
 "cells": [
  {
   "cell_type": "code",
   "execution_count": 7,
   "metadata": {},
   "outputs": [
    {
     "name": "stdout",
     "output_type": "stream",
     "text": [
      "Total comments  159571\n",
      "Total clean comments  143346\n",
      "                      id                                       comment_text  \\\n",
      "0       0000997932d777bf  Explanation\\nWhy the edits made under my usern...   \n",
      "1       000103f0d9cfb60f  D'aww! He matches this background colour I'm s...   \n",
      "2       000113f07ec002fd  Hey man, I'm really not trying to edit war. It...   \n",
      "3       0001b41b1c6bb37e  \"\\nMore\\nI can't make any real suggestions on ...   \n",
      "4       0001d958c54c6e35  You, sir, are my hero. Any chance you remember...   \n",
      "5       00025465d4725e87  \"\\n\\nCongratulations from me as well, use the ...   \n",
      "6       0002bcb3da6cb337       COCKSUCKER BEFORE YOU PISS AROUND ON MY WORK   \n",
      "7       00031b1e95af7921  Your vandalism to the Matt Shirvington article...   \n",
      "8       00037261f536c51d  Sorry if the word 'nonsense' was offensive to ...   \n",
      "9       00040093b2687caa  alignment on this subject and which are contra...   \n",
      "10      0005300084f90edc  \"\\nFair use rationale for Image:Wonju.jpg\\n\\nT...   \n",
      "11      00054a5e18b50dd4  bbq \\n\\nbe a man and lets discuss it-maybe ove...   \n",
      "12      0005c987bdfc9d4b  Hey... what is it..\\n@ | talk .\\nWhat is it......   \n",
      "13      0006f16e4e9f292e  Before you start throwing accusations and warn...   \n",
      "14      00070ef96486d6f9  Oh, and the girl above started her arguments w...   \n",
      "15      00078f8ce7eb276d  \"\\n\\nJuelz Santanas Age\\n\\nIn 2002, Juelz Sant...   \n",
      "16      0007e25b2121310b  Bye! \\n\\nDon't look, come or think of comming ...   \n",
      "17      000897889268bc93   REDIRECT Talk:Voydan Pop Georgiev- Chernodrinski   \n",
      "18      0009801bd85e5806  The Mitsurugi point made no sense - why not ar...   \n",
      "19      0009eaea3325de8c  Don't mean to bother you \\n\\nI see that you're...   \n",
      "20      000b08c464718505  \"\\n\\n Regarding your recent edits \\n\\nOnce aga...   \n",
      "21      000bfd0867774845  \"\\nGood to know. About me, yeah, I'm studying ...   \n",
      "22      000c0dfd995809fa  \"\\n\\n Snowflakes are NOT always symmetrical! \\...   \n",
      "23      000c6a3f0cd3ba8e  \"\\n\\n The Signpost: 24 September 2012 \\n\\n Rea...   \n",
      "24      000cfee90f50d471  \"\\n\\nRe-considering 1st paragraph edit?\\nI don...   \n",
      "25      000eefc67a2c930f  Radial symmetry \\n\\nSeveral now extinct lineag...   \n",
      "26      000f35deef84dc4a  There's no need to apologize. A Wikipedia arti...   \n",
      "27      000ffab30195c5e1  Yes, because the mother of the child in the ca...   \n",
      "28      0010307a3a50a353  \"\\nOk. But it will take a bit of work but I ca...   \n",
      "29      0010833a96e1f886  \"== A barnstar for you! ==\\n\\n  The Real Life ...   \n",
      "...                  ...                                                ...   \n",
      "159541  ffa33d3122b599d6  Your absurd edits \\n\\nYour absurd edits on gre...   \n",
      "159542  ffa95244f261527f  maybe he's got better things to do than spend ...   \n",
      "159543  ffad104337fe9891  scrap that, it does meet criteria and its gone...   \n",
      "159544  ffaed63c487a2b42                                You could do worse.   \n",
      "159545  ffb268f37788a011  , 7 March 2011 (UTC)\\nAre you also User:Bmatts...   \n",
      "159546  ffb47123b2d82762  \"\\n\\nHey listen don't you ever!!!! Delete my e...   \n",
      "159547  ffb7b4c3d3ae5842                     Thank you very, very much.  ·✆   \n",
      "159548  ffb93b0a0a1e78f9                        Talkback: 15 September 2012   \n",
      "159549  ffb998f9749bd83e                         2005 (UTC)\\n 06:35, 31 Mar   \n",
      "159550  ffba5332d6b8fd14  i agree/ on another note lil wayne is a talent...   \n",
      "159551  ffbc2db4225258dd  While about half the references are from BYU-I...   \n",
      "159552  ffbcd64a71775e04  Prague Spring \\n\\nI think that Prague Spring d...   \n",
      "159553  ffbd331a3aa269b9  I see this as having been merged; undoing one ...   \n",
      "159554  ffbdbb0483ed0841  and i'm going to keep posting the stuff u dele...   \n",
      "159555  ffc2f409658571f1  \"\\n\\nHow come when you download that MP3 it's ...   \n",
      "159556  ffc671f2acdd80e1  I'll be on IRC, too, if you have a more specif...   \n",
      "159557  ffc7bbb177c3c966  It is my opinion that that happens to be off-t...   \n",
      "159558  ffca1e81aefc48ac  Please stop removing content from Wikipedia; i...   \n",
      "159559  ffca8d71d71a3fae  Image:Barack-obama-mother.jpg listed for delet...   \n",
      "159560  ffcdcb71854f6d8a  \"Editing of article without Consensus & Remova...   \n",
      "159561  ffd2e85b07b3c7e4  \"\\nNo he did not, read it again (I would have ...   \n",
      "159562  ffd72e9766c09c97  \"\\n Auto guides and the motoring press are not...   \n",
      "159563  ffe029a7c79dc7fe  \"\\nplease identify what part of BLP applies be...   \n",
      "159564  ffe897e7f7182c90  Catalan independentism is the social movement ...   \n",
      "159565  ffe8b9316245be30  The numbers in parentheses are the additional ...   \n",
      "159566  ffe987279560d7ff  \":::::And for the second time of asking, when ...   \n",
      "159567  ffea4adeee384e90  You should be ashamed of yourself \\n\\nThat is ...   \n",
      "159568  ffee36eab5c267c9  Spitzer \\n\\nUmm, theres no actual article for ...   \n",
      "159569  fff125370e4aaaf3  And it looks like it was actually you who put ...   \n",
      "159570  fff46fc426af1f9a  \"\\nAnd ... I really don't think you understand...   \n",
      "\n",
      "        toxic  severe_toxic  obscene  threat  insult  identity_hate  friendly  \n",
      "0           0             0        0       0       0              0         1  \n",
      "1           0             0        0       0       0              0         1  \n",
      "2           0             0        0       0       0              0         1  \n",
      "3           0             0        0       0       0              0         1  \n",
      "4           0             0        0       0       0              0         1  \n",
      "5           0             0        0       0       0              0         1  \n",
      "6           1             1        1       0       1              0         0  \n",
      "7           0             0        0       0       0              0         1  \n",
      "8           0             0        0       0       0              0         1  \n",
      "9           0             0        0       0       0              0         1  \n",
      "10          0             0        0       0       0              0         1  \n",
      "11          0             0        0       0       0              0         1  \n",
      "12          1             0        0       0       0              0         0  \n",
      "13          0             0        0       0       0              0         1  \n",
      "14          0             0        0       0       0              0         1  \n",
      "15          0             0        0       0       0              0         1  \n",
      "16          1             0        0       0       0              0         0  \n",
      "17          0             0        0       0       0              0         1  \n",
      "18          0             0        0       0       0              0         1  \n",
      "19          0             0        0       0       0              0         1  \n",
      "20          0             0        0       0       0              0         1  \n",
      "21          0             0        0       0       0              0         1  \n",
      "22          0             0        0       0       0              0         1  \n",
      "23          0             0        0       0       0              0         1  \n",
      "24          0             0        0       0       0              0         1  \n",
      "25          0             0        0       0       0              0         1  \n",
      "26          0             0        0       0       0              0         1  \n",
      "27          0             0        0       0       0              0         1  \n",
      "28          0             0        0       0       0              0         1  \n",
      "29          0             0        0       0       0              0         1  \n",
      "...       ...           ...      ...     ...     ...            ...       ...  \n",
      "159541      1             0        1       0       1              0         0  \n",
      "159542      0             0        0       0       0              0         1  \n",
      "159543      0             0        0       0       0              0         1  \n",
      "159544      0             0        0       0       0              0         1  \n",
      "159545      0             0        0       0       0              0         1  \n",
      "159546      1             0        0       0       1              0         0  \n",
      "159547      0             0        0       0       0              0         1  \n",
      "159548      0             0        0       0       0              0         1  \n",
      "159549      0             0        0       0       0              0         1  \n",
      "159550      0             0        0       0       0              0         1  \n",
      "159551      0             0        0       0       0              0         1  \n",
      "159552      0             0        0       0       0              0         1  \n",
      "159553      0             0        0       0       0              0         1  \n",
      "159554      1             0        1       0       1              0         0  \n",
      "159555      0             0        0       0       0              0         1  \n",
      "159556      0             0        0       0       0              0         1  \n",
      "159557      0             0        0       0       0              0         1  \n",
      "159558      0             0        0       0       0              0         1  \n",
      "159559      0             0        0       0       0              0         1  \n",
      "159560      0             0        0       0       0              0         1  \n",
      "159561      0             0        0       0       0              0         1  \n",
      "159562      0             0        0       0       0              0         1  \n",
      "159563      0             0        0       0       0              0         1  \n",
      "159564      0             0        0       0       0              0         1  \n",
      "159565      0             0        0       0       0              0         1  \n",
      "159566      0             0        0       0       0              0         1  \n",
      "159567      0             0        0       0       0              0         1  \n",
      "159568      0             0        0       0       0              0         1  \n",
      "159569      0             0        0       0       0              0         1  \n",
      "159570      0             0        0       0       0              0         1  \n",
      "\n",
      "[159571 rows x 9 columns]\n",
      "Class 0: 16225\n",
      "Class 1: 143346\n",
      "Proportion: 0.11 : 1\n"
     ]
    },
    {
     "data": {
      "image/png": "[encoded data removed]",
      "text/plain": [
       "<matplotlib.figure.Figure at 0x2324c6bfa58>"
      ]
     },
     "metadata": {},
     "output_type": "display_data"
    }
   ],
   "source": [
    "import numpy as np\n",
    "import pandas as pd\n",
    "from matplotlib import pyplot as plt\n",
    "\n",
    "\n",
    "df_train = pd.read_csv(\"train.csv\")\n",
    "\n",
    "friendly = df_train.iloc[:,2:].sum(axis = 1)\n",
    "\n",
    "df_train['friendly'] = (friendly == 0)\n",
    "print (\"Total comments \", len(df_train))\n",
    "print (\"Total clean comments \", df_train['friendly'].sum())\n",
    "\n",
    "df_train['friendly'] = df_train['friendly'].astype(int)\n",
    "\n",
    "print(df_train)\n",
    "\n",
    "friendly_count = df_train.friendly.value_counts()\n",
    "print('Class 0:', friendly_count[0])\n",
    "print('Class 1:', friendly_count[1])\n",
    "print('Proportion:', round(friendly_count[0] / friendly_count[1], 2), ': 1')\n",
    "\n",
    "friendly_count.plot(kind='bar', title='Count (friendly)')\n",
    "\n",
    "plt.show()"
   ]
  },
  {
   "cell_type": "code",
   "execution_count": 9,
   "metadata": {},
   "outputs": [],
   "source": [
    "# Class count\n",
    "count_class_0, count_class_1 = df_train.friendly.value_counts()\n",
    "\n",
    "# Divide by class\n",
    "df_class_0 = df_train[df_train['friendly'] == 0]\n",
    "df_class_1 = df_train[df_train['friendly'] == 1]"
   ]
  },
  {
   "cell_type": "code",
   "execution_count": 11,
   "metadata": {},
   "outputs": [
    {
     "name": "stdout",
     "output_type": "stream",
     "text": [
      "Random under-sampling:\n",
      "1    143346\n",
      "0     16225\n",
      "Name: friendly, dtype: int64\n"
     ]
    },
    {
     "data": {
      "image/png": "[encoded data removed]",
      "text/plain": [
       "<matplotlib.figure.Figure at 0x2323b7ae978>"
      ]
     },
     "metadata": {},
     "output_type": "display_data"
    }
   ],
   "source": [
    "df_class_0_under = df_class_0.sample(count_class_1)\n",
    "df_test_under = pd.concat([df_class_0_under, df_class_1], axis=0)\n",
    "\n",
    "print('Random under-sampling:')\n",
    "print(df_test_under.friendly.value_counts())\n",
    "\n",
    "df_test_under.friendly.value_counts().plot(kind='bar', title='Count (friendly)')\n",
    "\n",
    "plt.show()"
   ]
  },
  {
   "cell_type": "code",
   "execution_count": 13,
   "metadata": {},
   "outputs": [
    {
     "name": "stdout",
     "output_type": "stream",
     "text": [
      "Random over-sampling:\n",
      "1    143346\n",
      "0     16225\n",
      "Name: friendly, dtype: int64\n"
     ]
    },
    {
     "data": {
      "image/png": "[encoded data removed]",
      "text/plain": [
       "<matplotlib.figure.Figure at 0x232317f07b8>"
      ]
     },
     "metadata": {},
     "output_type": "display_data"
    }
   ],
   "source": [
    "df_class_1_over = df_class_1.sample(count_class_0, replace=True)\n",
    "df_test_over = pd.concat([df_class_0, df_class_1_over], axis=0)\n",
    "\n",
    "print('Random over-sampling:')\n",
    "print(df_test_over.friendly.value_counts())\n",
    "\n",
    "df_test_over.friendly.value_counts().plot(kind='bar', title='Count (friendly)')\n",
    "\n",
    "plt.show()"
   ]
  },
  {
   "cell_type": "code",
   "execution_count": null,
   "metadata": {
    "collapsed": true
   },
   "outputs": [],
   "source": []
  }
 ],
 "metadata": {
  "kernelspec": {
   "display_name": "Python 3",
   "language": "python",
   "name": "python3"
  },
  "language_info": {
   "codemirror_mode": {
    "name": "ipython",
    "version": 3
   },
   "file_extension": ".py",
   "mimetype": "text/x-python",
   "name": "python",
   "nbconvert_exporter": "python",
   "pygments_lexer": "ipython3",
   "version": "3.6.3"
  }
 },
 "nbformat": 4,
 "nbformat_minor": 2
}
